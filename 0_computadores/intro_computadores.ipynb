{
 "cells": [
  {
   "cell_type": "markdown",
   "metadata": {},
   "source": [
    "# Introdução a computadores eletrônicos\n",
    "#### Antes de falarmos sobre algoritmos, linguagens de programação, e desenvolvimento de software, é necessária uma breve explicação sobre como computadores funcionam, e principalmente o que eles são, afinal, eles são a base que nos permite escrever código.\n",
    "<br>"
   ]
  },
  {
   "cell_type": "markdown",
   "metadata": {},
   "source": [
    "## O que é um computador\n",
    "Um computador é uma máquina que a partir de um conjunto de instruções, manipula dados a fim de gerar um resultado.<br>\n",
    "Os computadores que são utilizados no desenvolvimento de software, são os chamados computadores baseados em componentes eletrônicos. Por exemplo desktops e notebooks.\n",
    "<br>"
   ]
  },
  {
   "cell_type": "markdown",
   "metadata": {},
   "source": [
    "## Código de binário e linguagens de programação\n",
    "É conhecimento comum que computadores funcionam com base em código binário, mas pouco se fala além disso. <br>\n",
    "O código binário é na realidade uma forma de representar dois valores de pulso elétrico, se resumindo à, \"Existe pulso\" e \"Não existe pulso\". 1 e 0 respectivamente. Cada unidade do código binário é chamada de bit, definidos como a menor unidade de informação possível, a resposta para uma pergunta de sim ou não. 0 e 1 sendo Não e Sim, respectivamente. <br>\n",
    "Esse sistema foi escolhido não por ser fácil do humano de escrever código em, mas sim porque era fácil do computador compreender. Por isso mais a frente se desenvolveram linguagens mais compreensíveis ao ser humano, começando pela segunda geração de línguagens com o Assembly, que por muitos é definido como código de máquina interpretável por humanos. Porém essa linguagem ainda é difícilmente compreensível além de ser diferente para cada tipo de processador devido a sua funcionalidade estar intrinsecamente baseada na arquitetura eletrônica da máquina. Por esse tipo de problema se desenvolveram as linguagens de terceira geração, também chamadas de linguagens de scripting. Exemplos são C, Pascal e Basic. Por serem escritas em inglês, linguagens de terceira geração possuem uma sintaxe muito mais próxima da humana, sendo portanto mais compreensíveis além de rodarem em sistemas diversos, assim não necessitando de códigos diferentes para cada máquina. <br>\n",
    "Existêm também linguagens de quarta geração, como por exemplo SQL, uma linguagem utilizada para manipulação de bases de dados. Porém para programação ainda nos baseamos nas línguagens de terceira geração."
   ]
  }
 ],
 "metadata": {
  "language_info": {
   "name": "python"
  },
  "orig_nbformat": 4
 },
 "nbformat": 4,
 "nbformat_minor": 2
}
