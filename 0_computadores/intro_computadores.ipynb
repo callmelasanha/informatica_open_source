{
 "cells": [
  {
   "cell_type": "markdown",
   "metadata": {},
   "source": [
    "# Introdução a computadores eletrônicos\n",
    "#### Antes de falarmos sobre algoritmos, linguagens de programação, e desenvolvimento de software, é necessária uma breve explicação sobre como computadores funcionam, e principalmente o que eles são, afinal, eles são a base que nos permite escrever código.\n",
    "<br>"
   ]
  },
  {
   "cell_type": "markdown",
   "metadata": {},
   "source": [
    "## O que é um computador\n",
    "Um computador é uma máquina que a partir de um conjunto de instruções, manipula dados a fim de gerar um resultado.<br>\n",
    "O que vemos hoje e entendemos como computadores, como laptops, desktops e celulares, são mais especificamente computadores eletrônicos. Existem também computadores mecânicos, mas que não são tão difundidos quanto os eletrônicos, e não são chamados de computadores de propósito geral. Leia-se computadores que podem ser programados para fazer coisas nos âmbitos mais diversos. Computadores mecânicos são especificados para determinados propósitos, quando utilizados."
   ]
  }
 ],
 "metadata": {
  "language_info": {
   "name": "python"
  },
  "orig_nbformat": 4
 },
 "nbformat": 4,
 "nbformat_minor": 2
}
