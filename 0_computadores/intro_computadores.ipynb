{
 "cells": [
  {
   "cell_type": "markdown",
   "metadata": {},
   "source": [
    "# Introdução a computadores eletrônicos\n",
    "#### Antes de falarmos sobre algoritmos, linguagens de programação, e desenvolvimento de software, é necessária uma breve explicação sobre como computadores funcionam, e principalmente o que eles são, afinal, eles são a base que nos permite escrever código.\n",
    "<br>"
   ]
  },
  {
   "cell_type": "markdown",
   "metadata": {},
   "source": [
    "## O que é um computador\n",
    "Um computador é uma máquina que a partir de um conjunto de instruções, manipula dados a fim de gerar um resultado.<br>\n",
    "Os computadores que são utilizados no desenvolvimento de software, são os chamados computadores baseados em componentes eletrônicos. Por exemplo desktops e notebooks.\n",
    "<br>"
   ]
  },
  {
   "cell_type": "markdown",
   "metadata": {},
   "source": [
    "## Código de binário e linguagens de programação\n",
    "É conhecimento comum que computadores funcionam com base em código binário, mas pouco se fala além disso. <br>\n",
    "O código binário é na realidade uma forma de representar dois valores de pulso elétrico, se resumindo à, \"Existe pulso\" e \"Não existe pulso\". 1 e 0 respectivamente. Cada unidade do código binário é chamada de bit, definidos como a menor unidade de informação possível, a resposta para uma pergunta de sim ou não. 0 e 1 sendo Não e Sim, respectivamente. <br>\n",
    "O sistema de númeração binário é assim como o decimal, que utilizamos no dia a dia, um sistema válido, onde uma sequência de bits representa um valor numérico inteiro. Por exemplo 1001011 representa o número 75.\n",
    "Esse sistema foi escolhido não por ser fácil do humano de escrever código em, mas sim porque era fácil do computador compreender. Por isso mais a frente foram desenvolvidas linguagens mais compreensíveis ao ser humano, começando pela segunda geração de línguagens, com o Assembly, que por muitos é definido como código de máquina interpretável por humanos. Porém essa linguagem ainda é difícilmente compreensível além de ser diferente para cada tipo de processador devido a sua funcionalidade estar intrinsecamente baseada na arquitetura eletrônica da máquina. Por esse tipo de problema se desenvolveram as linguagens de terceira geração, também chamadas de linguagens de scripting. Exemplos são C, Pascal e Basic. Por serem escritas em inglês, linguagens de terceira geração possuem uma sintaxe muito mais próxima da humana, sendo portanto mais compreensíveis além de rodarem em sistemas diversos, assim não necessitando de códigos diferentes para cada máquina. <br>\n",
    "Existêm também linguagens de quarta geração, como por exemplo SQL, uma linguagem utilizada para manipulação de bases de dados. Porém para programação ainda nos baseamos nas línguagens de terceira geração."
   ]
  },
  {
   "cell_type": "markdown",
   "metadata": {},
   "source": [
    "## Representação de estruturas com código binário\n",
    "Como dito no tópico anterior, computadores compreendem apenas código de máquina, ou seja, sequências de bits. Porém, esses bits são utilizados para representar coisas muito mais complexas, como por exemplo uma imagem, um vídeo, ou simplesmente um texto escrito. Para fazer isso determinam-se diversas sequências de bits representando um determinado padrão. Como falado anteriormente, sequências de bits representam números maiores, portanto, para representar sistemas mais complexos, como o alfabeto, atribui-se a cada caracter um valor numérico. Inicialmente para cada caracter do alfabeto estadunidense, junto de pontuações e alguns caracteres especiais, foi atribuido um valor definido por exatamente 8 bits, como mostrado na tabela ASCII abaixo."
   ]
  },
  {
   "cell_type": "markdown",
   "metadata": {},
   "source": [
    "| Caracter |   bin   | \t Dec \t| Oct \t| Hex|\n",
    "|----------|---------|----------|-------|----|\n",
    "|...       | ...     |   ...    |  ...  | ...|\n",
    "|@         |01000000 |\t 64     | 0100  |0x40|\n",
    "|A         |01000001 |\t 65     | 0101  |0x41|\n",
    "|B         |01000010 |\t 66     | 0102  |0x42|\n",
    "|C         |01000011 |\t 67     | 0103  |0x43|\n",
    "|D         |01000100 |\t 68     | 0104  |0x44|\n",
    "|E         |01000101 |\t 69     | 0105  |0x45|\n",
    "|F         |01000110 |\t 70     | 0106  |0x46|\n",
    "|G         |01000111 |\t 71     | 0107  |0x47|\n",
    "|H         |01001000 |\t 72     | 0110  |0x48|\n",
    "|I         |01001001 |\t 73     | 0111  |0x49|\n",
    "|J         |01001010 |\t 74     | 0112  |0x4a|\n",
    "|K         |01001001 |\t 75     | 0113  |0x4b|\n",
    "|L         |01001100 |\t 76     | 0114  |0x4c|\n",
    "| ...      |  ...    |    ...   | ...   | ...|"
   ]
  },
  {
   "cell_type": "markdown",
   "metadata": {},
   "source": [
    "Hoje em dia existem diferentes sistemas padronizados para alfabetos que incluem mais caracteres e até emojis. Contudo, se a representação de caracteres fosse deterministica, ou seja, se todo 64 em binário representasse o caracter \"@\", o número 64 tería que ser representado por outra sequência, o que tornaria todo o sistema mais confuso, por isso, para além da representação, é necessário um contexto, ou seja, a sequêncoa 01000000 significa \"@\" apenas em um contexto de escrita, enquanto que representaria o número 64 em uma calculadora. Portanto, necessita-se de um programa que irá interpretar aquelas sequências de bits corretamente, por isso existêm diferentes extensões de arquivos e diferentes programas para abrir um determinado tipo de arquivo.\n",
    "<br>\n"
   ]
  },
  {
   "cell_type": "markdown",
   "metadata": {},
   "source": [
    "## bits Bytes e Unidades de informação\n",
    "Foi comentado anteriormente que bits são a menor unidade de informação possível, o que é verdade, e tão pequeno é seu valor, que se torna inviável fazer a medida da quantidade de dados existentes hoje em termos de bits. É comum medir coisas em Mega Bytes, Giga Bytes ou até Tera Bytes. Que são unidades de informação muito maiores. Como na tabela ASCII cada Byte é igual a 8 bits de informação e as unidades seguintes são definidas a partir desse valor.\n",
    "\n",
    "|     Unidade     |     Bytes     |\n",
    "|-----------------|---------------|\n",
    "| 1kB(Kilo Bytes) |1024 Bytes     |\n",
    "| 1MB(Mega Bytes) |1024 kB        |\n",
    "| 1GB(Giga Bytes) |1024 MB        |\n",
    "| 1TB(Tera Bytes) |1024 GB        |\n",
    "\n",
    "Ou seja, um HD com 1TB de armazenamento é capaz de armazenar aproximadamente 8,8 trilhões de bits. \n",
    "<br>\n"
   ]
  },
  {
   "cell_type": "markdown",
   "metadata": {},
   "source": [
    "<br>\n",
    "<br>\n",
    "Esse é o final do caderno. Espero que tenham sido introduzidas todas as informações necessárias para inicio dos estudos em programação. \n",
    "\n",
    "[De volta ao início](#introdução-a-computadores-eletrônicos)"
   ]
  }
 ],
 "metadata": {
  "interpreter": {
   "hash": "916dbcbb3f70747c44a77c7bcd40155683ae19c65e1c03b4aa3499c5328201f1"
  },
  "kernelspec": {
   "display_name": "Python 3.9.7 64-bit",
   "language": "python",
   "name": "python3"
  },
  "language_info": {
   "name": "python",
   "version": "3.9.7"
  },
  "orig_nbformat": 4
 },
 "nbformat": 4,
 "nbformat_minor": 2
}
