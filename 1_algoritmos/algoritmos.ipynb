{
 "cells": [
  {
   "cell_type": "markdown",
   "metadata": {},
   "source": [
    "# Algoritmos e Linguagens de Programação I\n",
    "### Algoritmos são sequências de instruções para solução de determinado problema. Essa estrutura não é intrinsecamente ligada a computação, mas computação é intrinsecamente ligada a essa estrutura.\n",
    "Algoritmos estão por toda a parte. Atravessar a rua, por exemplo, é um algoritmo: Olhe para a esquerda, se existe carro, espere ele passar e volte ao inicio da da sequência de ações, se não, olhe para a direita, se existe carro espere ele passar e volte ao ínicio da sequência de ações, se não, atravesse. <br>\n",
    "Na computação, algoritmos são, a grosso modo, a maneira utilizada para se comunicar com computadores. Como se sabe, essas máquinas não pensam por si mesmas, portanto, é necessário instruílas a cada passo do processamento de dados através de uma sequência pré-definida de ações, essas sequências pré definidas de ações são o que chamamos de algoritmos computacionais, ou só algoritmos. <br>\n"
   ]
  },
  {
   "cell_type": "markdown",
   "metadata": {},
   "source": [
    "## Linguagens de programação\n",
    "Linguagens de programação, a grosso modo, são a forma de comunicação entre o programador e a máquina. \n",
    "\n",
    "// Hoje não é dia mesmo"
   ]
  }
 ],
 "metadata": {
  "interpreter": {
   "hash": "916dbcbb3f70747c44a77c7bcd40155683ae19c65e1c03b4aa3499c5328201f1"
  },
  "kernelspec": {
   "display_name": "Python 3.9.7 64-bit",
   "language": "python",
   "name": "python3"
  },
  "language_info": {
   "codemirror_mode": {
    "name": "ipython",
    "version": 3
   },
   "file_extension": ".py",
   "mimetype": "text/x-python",
   "name": "python",
   "nbconvert_exporter": "python",
   "pygments_lexer": "ipython3",
   "version": "3.9.7"
  },
  "orig_nbformat": 4
 },
 "nbformat": 4,
 "nbformat_minor": 2
}
