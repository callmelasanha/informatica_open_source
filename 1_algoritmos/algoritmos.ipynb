{
 "cells": [
  {
   "cell_type": "markdown",
   "metadata": {},
   "source": [
    "# Algoritmos\n",
    "#### Algoritmos são sequências de instruções que buscam a solução de determinado problema"
   ]
  },
  {
   "cell_type": "markdown",
   "metadata": {},
   "source": [
    "## Estrutura de algoritmos\n",
    "- Funcionam com base em entrada e saída de dados.\n",
    "- Necessitam de uma sequência lógica bem definida de passos.\n",
    "- Podem realizar operações matemáticas\n",
    "- Podem manipular a memória do computador a fim de registrar ou apagar uma informação.\n",
    "- Possuem estrutura de decisão.\n",
    "- Podem realizar operações comparativas\n",
    "- Podem repetir uma sequência de ações até que determinado resultado seja obtido.\n",
    "- O código pode ser separado em vários de blocos de código que serão referenciado posteriormente"
   ]
  },
  {
   "cell_type": "markdown",
   "metadata": {},
   "source": [
    "## Entrada e saída de dados\n",
    "A base de toda a computação, é a construção de uma estrutura que recebe uma certa quantidade de dados, os manipula de acordo com uma sequência de instruções pré-definidas e devolve um resultado a partir dessas manipulações. <br>\n",
    "Um exemplo clássico é a receita de bolo: <br>\n",
    "> **Entrada:** Ingredientes(Açúcar, ovo, leite, farinha, fermento e etc.) <br>\n",
    "> **Manipulação/Processamento:** Misturar os ingredientes, bater no liquidificador, virar na forma, pré-aquecer o forno, levar a forma no forno...<br>\n",
    "> **Saída:** Bolo preparado <br>\n"
   ]
  },
  {
   "cell_type": "markdown",
   "metadata": {},
   "source": [
    "## Sequência de instruções\n",
    "O algoritmo em si "
   ]
  }
 ],
 "metadata": {
  "language_info": {
   "name": "python"
  },
  "orig_nbformat": 4
 },
 "nbformat": 4,
 "nbformat_minor": 2
}
