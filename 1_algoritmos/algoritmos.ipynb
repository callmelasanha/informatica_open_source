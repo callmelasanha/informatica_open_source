{
 "cells": [
  {
   "cell_type": "markdown",
   "metadata": {},
   "source": [
    "# Algoritmos e Linguagens de Programação I\n",
    "### Algoritmos são sequências de instruções para solução de determinado problema. Essa estrutura não é intrinsecamente ligada a computação, mas computação é intrinsecamente ligada a essa estrutura.\n",
    "Algoritmos estão por toda a parte. Atravessar a rua, por exemplo, é um algoritmo: Olhe para a esquerda, se existe carro, espere ele passar e volte ao inicio da da sequência de ações, se não, olhe para a direita, se existe carro espere ele passar e volte ao ínicio da sequência de ações, se não, atravesse. <br>\n",
    "Na computação, algoritmos são, a grosso modo, a maneira utilizada para se comunicar com computadores. Como se sabe, essas máquinas não pensam por si mesmas, portanto, é necessário instruílas a cada passo do processamento de dados através de uma sequência pré-definida de ações, essas sequências pré definidas de ações são o que chamamos de algoritmos computacionais, ou só algoritmos. <br>\n"
   ]
  },
  {
   "cell_type": "markdown",
   "metadata": {},
   "source": [
    "## Linguagens de programação\n",
    "<!-- Como falado no módulo 0, linguagens de programação são o meio de comunicação entre o programador e os computadores, e portanto nosso meio de construção de algoritmos computacionais. As de terceira geração, como C, Pascal e Python se baseam na construção de algoritmos que são traduzidos para uma línguagem compreensível pelo computador, assim gerando um resultado. <br>\n",
    "Para a construção de sistemas computacionais, são combinadas sequências lógicas utilizando as estruturas disponíveis na línguagem que está sendo utilizada. Normalmente as línguagens de programação, por compartilharem as mesmas estruturas lógicas, são muito similares entre si. Sendo portanto, simples a transferência de conhecimentos de uma para a outra. <br>\n",
    "Nesse repositório, mesmo havendo referência a outras línguagens de tempos em tempos, será utilizada majoritáriamente a linguagem Python. Tanto por questões de praticidade, quanto por questões de objetividade. Esse repositório está sendo construído com uma ferramenta chamada jupyter notebook, que permite codificar e rodar códigos python direto no arquivo. Portanto, é possível para quem quiser, fazer o download do repositório e simplesmente modificar os códigos a vontade para ver a mudança nos resultados. <br> --> Rever e reescrever"
   ]
  },
  {
   "cell_type": "markdown",
   "metadata": {},
   "source": [
    "## Estrutura de algoritmos\n",
    "- Funcionam com base em entrada e saída de dados.\n",
    "- Necessitam de uma sequência lógica bem definida de passos.\n",
    "- Podem realizar operações matemáticas\n",
    "- Podem manipular a memória do computador a fim de registrar ou apagar uma informação.\n",
    "- Possuem estrutura de decisão.\n",
    "- Podem realizar operações comparativas\n",
    "- Podem repetir uma sequência de ações até que determinado resultado seja obtido.\n",
    "- O código pode ser separado em vários de blocos de código que serão referenciado posteriormente\n",
    "\n",
    "Abaixo será feita uma descrição formal sobre cada uma dessas caracteristicas junto com uma série de exemplos na línguagem Python"
   ]
  },
  {
   "cell_type": "markdown",
   "metadata": {},
   "source": [
    "## Entrada e saída de dados\n",
    "A base de toda a computação, é a construção de uma estrutura que recebe uma certa quantidade de dados, os manipula de acordo com uma sequência de instruções pré-definidas e devolve um resultado a partir dessas manipulações. <br>\n",
    "Um exemplo clássico é a receita de bolo: <br>\n",
    "> **Entrada:** Ingredientes(Açúcar, ovo, leite, farinha, fermento e etc.) <br>\n",
    "> **Manipulação/Processamento:** Misturar os ingredientes, bater no liquidificador, virar na forma, pré-aquecer o forno, levar a forma no forno...<br>\n",
    "> **Saída:** Bolo preparado <br>\n",
    "\n",
    "Sendo essa a base da estrutura computacional, algoritmos seguem o mesmo modelo, a partir de uma série de entradas de dados, os algoritmos rodam, e geram uma série de resultados, como por exemplo rodar um vídeo na tela. É dada a instrução de iniciar o vídeo, o endereço de memória onde o arquivo está localizado, e a partir desses dados o programa reprodutor de vídeo roda o vídeo na tela como resultado."
   ]
  },
  {
   "cell_type": "markdown",
   "metadata": {},
   "source": [
    "## Instruções de um algoritmo\n",
    "Sabe-se que computadores são máquinas lógicas, e portanto não compreendem a língua abstrata que os humanos falam. Portanto, para escrever instruções computacionais, é necessário ser específico e direto quanto ao que se quer que o computador faça se não não será obtido o resultado esperado. <br>\n",
    "Sobre as instruções dadas a um software existêm duas características principais a serem consideradas: <br>\n",
    "1. Ele funciona?\n",
    "2. Ele está bem construído?\n",
    "<br>\n",
    "O programa funcionar significa que ele devolve o resultado esperado para todas as entradas. Por exemplo um algoritmo que realiza uma soma, se ele receber 3 e 2 como entrada ele deve devolver 5 como saída, qualquer outro resultado caracterizaria esse algoritmo como errado. <br>\n",
    "Agora quanto a estar bem construído é uma questão mais complexa. No geral consideram-se duas categorias: Legibilidade e otimização. Legibilidade é o quão claro está o seu código para outras pessoas, ou seja, o quão fácil de entender, já otimização é o quão rápido o seu código realiza a operação solicitada. \n",
    "Falaremos mais sobre otimização de código no tópico sobre complexidade de algoritmos no módulo de estruturas de dados. Mas em poucas palavras, existe uma infinidade de meios de realizar uma mesma tarefa, e alguns deles são melhores do que outros por exigirem menos consumo computacional, portanto são mais otimizados. <br>"
   ]
  },
  {
   "cell_type": "markdown",
   "metadata": {},
   "source": [
    "## Operações matemáticas\n",
    "A matemática é uma das bases estruturais tanto de algoritmos quanto de computadores, Muitas das operações realizadas são feitas a partir de dados numéricos, e portanto operações matemáticas são excenciais para programação. Os operadores são também muito similares como pode se ver na tabela a seguir.\n",
    "\n",
    "|    Operação    |    Operador    |\n",
    "|----------------|----------------|\n",
    "|Soma            |      +         |\n",
    "|Subtração       |      -         |\n",
    "|Divisão         |      /         |\n",
    "|Multiplicação   |      *         |\n",
    "|Resto de divisão|      %         |\n",
    "\n",
    "Algumas linguagens podem ter alguns operadores a mais, como por exemplo Python que têm ** para exponenciação, e // para a parte inteira da divisão."
   ]
  },
  {
   "cell_type": "markdown",
   "metadata": {},
   "source": [
    "## Váriaveis e Constantes\n",
    "Váriaveis e constantes são nomes atribuidos a um espaço da memória no qual está armazenado alguma informação relevante ao programa que está sendo rodado. A diferença entre as duas é que váriaveis têm valores que podem mudar no decorrer do código, enquanto que constantes têm valores fixos do momento de sua declaração até seu ultimo uso. <br>\n",
    "Algumas línguagens têm suporte apenas para váriaveis, ou seja, quando se deseja fazer o uso de constantes, deve apenas atribuir o valor dela a uma váriavel e não a modificar. <br>\n"
   ]
  },
  {
   "cell_type": "code",
   "execution_count": 1,
   "metadata": {},
   "outputs": [
    {
     "name": "stdout",
     "output_type": "stream",
     "text": [
      "2\n",
      "3\n",
      "5\n",
      "-1\n",
      "0.6666666666666666\n",
      "6\n",
      "2\n",
      "8\n",
      "0\n"
     ]
    }
   ],
   "source": [
    "x = 2\n",
    "y = 3\n",
    "soma = x + y\n",
    "subtracao = x - y\n",
    "divisao = x / y\n",
    "multiplicacao = x * y\n",
    "resto = x % y\n",
    "expo = x ** y\n",
    "divisao_inteira = x // y\n",
    "\n",
    "print(x)\n",
    "print(y)\n",
    "print(soma)\n",
    "print(subtracao)\n",
    "print(divisao)\n",
    "print(multiplicacao)\n",
    "print(resto)\n",
    "print(expo)\n",
    "print(divisao_inteira)"
   ]
  },
  {
   "cell_type": "markdown",
   "metadata": {},
   "source": [
    "Acima podemos observar um código em python onde são declaradas duas váriaveis numéricas x e y com os valores 2 e 3 respectivamente, e cada uma das 7 operações comentadas anteriormente realizada entre essas é atribuída a uma nova váriavel. Abaixo é realizada a operação print() com todas as váriaveis resultantes das operações. Assim observando que os valores estão corretos. <br>"
   ]
  },
  {
   "cell_type": "markdown",
   "metadata": {},
   "source": [
    "## Tipos de váriaveis\n",
    "Como computadores compreendem apenas código binário, é necessário um método para que eles saibam qual é o tipo de dado que está sendo guardado na memória, afinal uma sequência de caracteres, ocupa um espaço maior do que um valor binário. Portanto as variáveis são divididas em tipos. Esses tipos podem variar, porém os que chamamos de tipos primitivos são normalmente 4\n",
    "\n",
    "- ### inteiros \n",
    "Em algumas línguagens existe a separação de inteiros longos e curtos a fim de otimizar memória e velocidade de processamento\n",
    "\n",
    "- ### Reais\n",
    "Números reais, ou números de ponto flutuante são aqueles que possuem valor depois da virgula como por exemplo 3.14159, em algumas linguagens são separados em float e double, com double tendo o dobro do tamanho de um float\n",
    "\n",
    "- ### Caracteres\n",
    "São unidades de texto, como por exemplo as letras do alfabeto ou uma pontuação\n",
    "\n",
    "- ### Booleanos\n",
    "Booleanos ou Bool, são váriaveis com apenas dois valores possíveis 'True' ou 'False' (Verdadeiro ou Falso), são normalmente usados para verificação de comparações.\n",
    "<br>\n",
    "<br>\n",
    "Existem outros jeitos de armazenar dados, falaremos mais sobre eles no módulo sobre estruturas de dados, mas uma estrutura de dados inicial é o Array. Um array é uma estrutura de dados que guarda um conjunto de tamanho determinado e tipo unico em seu interior. Por exemplo, um array de tamanho 4, que armazena caracteres, poderia guardar os valores ['a', 'm', 'o', 'r'], assim formando o que chamamos de string, que é a forma que construímos textos. "
   ]
  }
 ],
 "metadata": {
  "interpreter": {
   "hash": "916dbcbb3f70747c44a77c7bcd40155683ae19c65e1c03b4aa3499c5328201f1"
  },
  "kernelspec": {
   "display_name": "Python 3.9.7 64-bit",
   "language": "python",
   "name": "python3"
  },
  "language_info": {
   "codemirror_mode": {
    "name": "ipython",
    "version": 3
   },
   "file_extension": ".py",
   "mimetype": "text/x-python",
   "name": "python",
   "nbconvert_exporter": "python",
   "pygments_lexer": "ipython3",
   "version": "3.9.7"
  },
  "orig_nbformat": 4
 },
 "nbformat": 4,
 "nbformat_minor": 2
}
