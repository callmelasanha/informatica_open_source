{
 "cells": [
  {
   "cell_type": "markdown",
   "metadata": {},
   "source": [
    "# Algoritmos\n",
    "#### Algoritmos são sequências de instruções que buscam a solução de determinado problema"
   ]
  },
  {
   "cell_type": "markdown",
   "metadata": {},
   "source": [
    "## Estrutura de algoritmos\n",
    "- Funcionam com base em entrada e saída de dados.\n",
    "- Necessitam de uma sequência lógica bem definida de passos.\n",
    "- Podem realizar operações matemáticas\n",
    "- Podem manipular a memória do computador a fim de registrar ou apagar uma informação.\n",
    "- Possuem estrutura de decisão.\n",
    "- Podem realizar operações comparativas\n",
    "- Podem repetir uma sequência de ações até que determinado resultado seja obtido.\n",
    "- O código pode ser separado em vários de blocos de código que serão referenciado posteriormente\n",
    "\n",
    "Abaixo será feita uma descrição formal sobre cada uma dessas caracteristicas e depois disso introduziremos a línguagem Python, com a qual faremos uma série de exemplos sobre os conceitos apresentados."
   ]
  },
  {
   "cell_type": "markdown",
   "metadata": {},
   "source": [
    "## Entrada e saída de dados\n",
    "A base de toda a computação, é a construção de uma estrutura que recebe uma certa quantidade de dados, os manipula de acordo com uma sequência de instruções pré-definidas e devolve um resultado a partir dessas manipulações. <br>\n",
    "Um exemplo clássico é a receita de bolo: <br>\n",
    "> **Entrada:** Ingredientes(Açúcar, ovo, leite, farinha, fermento e etc.) <br>\n",
    "> **Manipulação/Processamento:** Misturar os ingredientes, bater no liquidificador, virar na forma, pré-aquecer o forno, levar a forma no forno...<br>\n",
    "> **Saída:** Bolo preparado <br>\n",
    "\n",
    "Sendo essa a base da estrutura computacional, algoritmos seguem o mesmo modelo, a partir de uma série de entradas de dados, os algoritmos rodam, e geram uma série de resultados, como por exemplo rodar um vídeo na tela. É dada a instrução de iniciar o vídeo, o endereço de memória onde o arquivo está localizado, e a partir desses dados o programa reprodutor de vídeo roda o vídeo na tela como resultado."
   ]
  },
  {
   "cell_type": "markdown",
   "metadata": {},
   "source": [
    "## Instruções de um algoritmo\n",
    "Sabe-se que computadores são máquinas lógicas, e portanto não compreendem a língua abstrata que os humanos falam. Portanto, para escrever instruções computacionais, é necessário ser específico e direto quanto ao que se quer que o computador faça se não não será obtido o resultado esperado. <br>\n",
    "Sobre as instruções dadas a um software existêm duas características principais a serem consideradas: <br>\n",
    "1. Ele funciona?\n",
    "2. Ele está bem construído?\n",
    "<br>\n",
    "O programa funcionar significa que ele devolve o resultado esperado para todas as entradas. Por exemplo um algoritmo que realiza uma soma, se ele receber 3 e 2 como entrada ele deve devolver 5 como saída, qualquer outro resultado caracterizaria esse algoritmo como errado. <br>\n",
    "Agora quanto a estar bem construído é uma questão mais complexa. No geral consideram-se duas categorias: Legibilidade e otimização. Legibilidade é o quão claro está o seu código para outras pessoas, ou seja, o quão fácil de entender, já otimização é o quão rápido o seu código realiza a operação solicitada. \n",
    "Falaremos mais sobre otimização de código no tópico sobre complexidade de algoritmos no módulo de estruturas de dados. Mas em poucas palavras, existe uma infinidade de meios de realizar uma mesma tarefa, e alguns deles são melhores do que outros por exigirem menos consumo computacional, portanto são mais otimizados. <br>"
   ]
  },
  {
   "cell_type": "markdown",
   "metadata": {},
   "source": [
    "## Operações matemáticas\n",
    "A matemática é uma das bases estruturais tanto de algoritmos quanto de computadores, Muitas das operações realizadas são feitas a partir de dados numéricos, e portanto operações matemáticas são excenciais para programação. Os operadores são também muito similares como pode se ver na tabela a seguir.\n",
    "\n",
    "|    Operação    |    Operador    |\n",
    "|----------------|----------------|\n",
    "|Soma            |      +         |\n",
    "|Subtração       |      -         |\n",
    "|Divisão         |      /         |\n",
    "|Multiplicação   |      *         |\n",
    "|Resto de divisão|      %         |\n",
    "\n",
    "Algumas linguagens podem ter alguns operadores a mais, como por exemplo Python que têm ** para exponenciação, e // para a parte inteira da divisão."
   ]
  },
  {
   "cell_type": "markdown",
   "metadata": {},
   "source": [
    "## Váriaveis e Constantes\n",
    "Váriaveis e constantes são nomes atribuidos a um espaço da memória no qual está armazenado alguma informação relevante ao programa que está sendo rodado. A diferença entre as duas é que váriaveis têm valores que podem mudar no decorrer do código, enquanto que constantes têm valores fixos do momento de sua declaração até seu ultimo uso. <br>\n",
    "Algumas línguagens têm suporte apenas para váriaveis, ou seja, quando se deseja fazer o uso de constantes, deve apenas atribuir o valor dela a uma váriavel e não a modificar. <br>\n"
   ]
  }
 ],
 "metadata": {
  "language_info": {
   "name": "python"
  },
  "orig_nbformat": 4
 },
 "nbformat": 4,
 "nbformat_minor": 2
}
